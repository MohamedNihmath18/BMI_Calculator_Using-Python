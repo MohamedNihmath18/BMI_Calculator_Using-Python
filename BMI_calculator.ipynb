{
 "cells": [
  {
   "cell_type": "markdown",
   "id": "1ce29587-2c52-4aa4-aca7-51f77e385385",
   "metadata": {},
   "source": [
    "# Building a BMI Calculator with Python"
   ]
  },
  {
   "cell_type": "code",
   "execution_count": null,
   "id": "2617f7d2-0694-4504-a66c-77b0058b37d2",
   "metadata": {},
   "outputs": [],
   "source": [
    "#BMI = (weight in pounds x 703) / (height in inches x height in inches)"
   ]
  },
  {
   "cell_type": "code",
   "execution_count": null,
   "id": "296cb52a-864c-48d9-9fa8-cbddc8e33745",
   "metadata": {},
   "outputs": [],
   "source": [
    "\"\"\"\n",
    "Under 18.5  =>\t  Underweight\t=>  Minimal\n",
    "18.5 - 24.9\t=>    Normal Weight\t=>  Minimal\n",
    "25 - 29.9\t=>    Overweight\t=>  Increased\n",
    "30 - 34.9\t=>    Obese\t        =>  High\n",
    "35 - 39.9\t=>    Severely Obese=>\tVery High\n",
    "40 and over\t=>    Morbidly Obese=>\tExtremely High\n",
    "\n",
    "\"\"\""
   ]
  },
  {
   "cell_type": "code",
   "execution_count": null,
   "id": "f0d41bb1-bf3d-444b-8e33-0cd897228e12",
   "metadata": {},
   "outputs": [],
   "source": []
  },
  {
   "cell_type": "code",
   "execution_count": 12,
   "id": "0e287daf-0ffa-4e28-a28c-09fe3412d76b",
   "metadata": {
    "scrolled": true
   },
   "outputs": [
    {
     "name": "stdin",
     "output_type": "stream",
     "text": [
      "Enter Your name:  Nihmath\n",
      "Enter your weight in pounds:  170\n",
      "Enter your height in inches:  69\n"
     ]
    },
    {
     "name": "stdout",
     "output_type": "stream",
     "text": [
      "25.101869355177485\n",
      "Nihmath, You are overweight. You need to do excercise more and stop sitting. \n"
     ]
    }
   ],
   "source": [
    "name = input(\"Enter Your name: \")\n",
    "\n",
    "weight = int(input(\"Enter your weight in pounds: \"))\n",
    "\n",
    "height = int(input(\"Enter your height in inches: \"))\n",
    "\n",
    "BMI = (weight * 703) / (height * height)\n",
    "\n",
    "print(BMI)\n",
    "\n",
    "if BMI > 0:\n",
    "    if(BMI < 18.5):\n",
    "        print(name +\", You are underweight.\")\n",
    "    elif(BMI <= 24.9):\n",
    "        print(name +\", You are normal weight.\")\n",
    "    elif(BMI < 29.9):\n",
    "        print(name +\", You are overweight. You need to do excercise more and stop sitting. \")\n",
    "    elif(BMI < 34.9):\n",
    "        print(name +\", You are obese.\")\n",
    "    elif(BMI < 39.9):\n",
    "        print(name +\", You are severely obese.\")\n",
    "    else:\n",
    "        print(name +\", You are morbidly obese.\")\n",
    "else:\n",
    "    print(\"Enter valid input\")"
   ]
  },
  {
   "cell_type": "code",
   "execution_count": null,
   "id": "ca883165-c90c-40aa-b5ca-886a78b11a58",
   "metadata": {},
   "outputs": [],
   "source": []
  },
  {
   "cell_type": "code",
   "execution_count": null,
   "id": "212a1fbd-b5ba-4744-a27a-f4c5069568b5",
   "metadata": {},
   "outputs": [],
   "source": []
  },
  {
   "cell_type": "code",
   "execution_count": null,
   "id": "f3bebcaf-144d-41fe-a6fa-b6042d212619",
   "metadata": {},
   "outputs": [],
   "source": []
  },
  {
   "cell_type": "code",
   "execution_count": null,
   "id": "81c241e9-435d-4831-9f20-a7b68cdace35",
   "metadata": {},
   "outputs": [],
   "source": []
  },
  {
   "cell_type": "code",
   "execution_count": null,
   "id": "3e135b65-a990-43be-8471-a5d18f63eb8a",
   "metadata": {},
   "outputs": [],
   "source": []
  },
  {
   "cell_type": "code",
   "execution_count": null,
   "id": "2ac1da23-d9ae-4c19-81b2-b6b68aa9767c",
   "metadata": {},
   "outputs": [],
   "source": []
  },
  {
   "cell_type": "code",
   "execution_count": null,
   "id": "1540d83c-ebf7-4884-b187-3dec9648bd36",
   "metadata": {},
   "outputs": [],
   "source": []
  },
  {
   "cell_type": "code",
   "execution_count": null,
   "id": "59ff2846-90e5-49c2-9788-be552ac1c41b",
   "metadata": {},
   "outputs": [],
   "source": []
  },
  {
   "cell_type": "code",
   "execution_count": null,
   "id": "5befdf9f-ba96-4017-928e-7d1eee1a677e",
   "metadata": {},
   "outputs": [],
   "source": []
  },
  {
   "cell_type": "code",
   "execution_count": null,
   "id": "1c80cfc2-b9b3-4812-a319-852fc00f47aa",
   "metadata": {},
   "outputs": [],
   "source": []
  },
  {
   "cell_type": "code",
   "execution_count": null,
   "id": "bfb435ef-6e69-4618-a306-d4dbb3d14301",
   "metadata": {},
   "outputs": [],
   "source": []
  },
  {
   "cell_type": "code",
   "execution_count": null,
   "id": "9e2750e4-92e9-4ca2-bebb-3c382c0f2841",
   "metadata": {},
   "outputs": [],
   "source": []
  },
  {
   "cell_type": "code",
   "execution_count": null,
   "id": "b790337d-7bad-4709-8f1c-603c88947caf",
   "metadata": {},
   "outputs": [],
   "source": []
  }
 ],
 "metadata": {
  "kernelspec": {
   "display_name": "Python 3 (ipykernel)",
   "language": "python",
   "name": "python3"
  },
  "language_info": {
   "codemirror_mode": {
    "name": "ipython",
    "version": 3
   },
   "file_extension": ".py",
   "mimetype": "text/x-python",
   "name": "python",
   "nbconvert_exporter": "python",
   "pygments_lexer": "ipython3",
   "version": "3.12.4"
  }
 },
 "nbformat": 4,
 "nbformat_minor": 5
}
